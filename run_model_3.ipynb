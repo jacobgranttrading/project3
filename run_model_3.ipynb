{
 "cells": [
  {
   "cell_type": "code",
   "execution_count": 44,
   "metadata": {},
   "outputs": [],
   "source": [
    "import tensorflow as tf\n",
    "from tensorflow.keras.models import Sequential\n",
    "from tensorflow.keras.layers import LSTM, Dense, Dropout, Bidirectional\n",
    "from tensorflow.keras.callbacks import ModelCheckpoint, TensorBoard\n",
    "from sklearn import preprocessing\n",
    "from sklearn.model_selection import train_test_split\n",
    "from yahoo_fin import stock_info as si\n",
    "from collections import deque\n",
    "import yfinance as yf\n",
    "from pathlib import Path\n",
    "\n",
    "import os\n",
    "import numpy as np\n",
    "import pandas as pd\n",
    "import random"
   ]
  },
  {
   "cell_type": "code",
   "execution_count": 45,
   "metadata": {},
   "outputs": [],
   "source": [
    "def getTickerPriceData(tickers,period='7300d', interval='1d'):\n",
    "    #Getting Ticker Price Data (Open,High,Close,etc)\n",
    "    ticker_df = yf.download(tickers=tickers,period=period,interval=interval)\n",
    "    return ticker_df"
   ]
  },
  {
   "cell_type": "code",
   "execution_count": 46,
   "metadata": {},
   "outputs": [],
   "source": [
    "#getTickerPriceData('SPY')"
   ]
  },
  {
   "cell_type": "code",
   "execution_count": 47,
   "metadata": {},
   "outputs": [],
   "source": [
    "def shuffle_in_unison(a, b):\n",
    "    # shuffle two arrays in the same way\n",
    "    state = np.random.get_state()\n",
    "    np.random.shuffle(a)\n",
    "    np.random.set_state(state)\n",
    "    np.random.shuffle(b)\n",
    "\n",
    "def load_data(ticker, n_steps=50, scale=True, shuffle=True, lookup_step=1, split_by_date=True,\n",
    "                test_size=0.2, feature_columns=['Adj Close', 'Volume', 'Open', 'High', 'Low']):\n",
    "    \"\"\"\n",
    "    Loads data from Yahoo Finance source, as well as scaling, shuffling, normalizing and splitting.\n",
    "    Params:\n",
    "        ticker (str/pd.DataFrame): the ticker you want to load, examples include AAPL, TESL, etc.\n",
    "        n_steps (int): the historical sequence length (i.e window size) used to predict, default is 50\n",
    "        scale (bool): whether to scale prices from 0 to 1, default is True\n",
    "        shuffle (bool): whether to shuffle the dataset (both training & testing), default is True\n",
    "        lookup_step (int): the future lookup step to predict, default is 1 (e.g next day)\n",
    "        split_by_date (bool): whether we split the dataset into training/testing by date, setting it \n",
    "            to False will split datasets in a random way\n",
    "        test_size (float): ratio for test data, default is 0.2 (20% testing data)\n",
    "        feature_columns (list): the list of features to use to feed into the model, default is everything grabbed from yahoo_fin\n",
    "    \"\"\"\n",
    "    # see if ticker is already a loaded stock from yahoo finance\n",
    "    if isinstance(ticker, str):\n",
    "        # load it from yfinance\n",
    "        df = getTickerPriceData(ticker)\n",
    "    elif isinstance(ticker, pd.DataFrame):\n",
    "        # already loaded, use it directly\n",
    "        df = ticker\n",
    "    else:\n",
    "        raise TypeError(\"ticker can be either a str or a `pd.DataFrame` instances\")\n",
    "    # this will contain all the elements we want to return from this function\n",
    "    result = {}\n",
    "    # we will also return the original dataframe itself\n",
    "    result['df'] = df.copy()\n",
    "    # make sure that the passed feature_columns exist in the dataframe\n",
    "    for col in feature_columns:\n",
    "        assert col in df.columns, f\"'{col}' does not exist in the dataframe.\"\n",
    "    # add date as a column\n",
    "    if \"date\" not in df.columns:\n",
    "        df[\"date\"] = df.index\n",
    "    if scale:\n",
    "        column_scaler = {}\n",
    "        # scale the data (prices) from 0 to 1\n",
    "        for column in feature_columns:\n",
    "            scaler = preprocessing.MinMaxScaler()\n",
    "            df[column] = scaler.fit_transform(np.expand_dims(df[column].values, axis=1))\n",
    "            column_scaler[column] = scaler\n",
    "        # add the MinMaxScaler instances to the result returned\n",
    "        result[\"column_scaler\"] = column_scaler\n",
    "    # add the target column (label) by shifting by `lookup_step`\n",
    "    df['future'] = df['Adj Close'].shift(-lookup_step)\n",
    "    # last `lookup_step` columns contains NaN in future column\n",
    "    # get them before droping NaNs\n",
    "    last_sequence = np.array(df[feature_columns].tail(lookup_step))\n",
    "    # drop NaNs\n",
    "    df.dropna(inplace=True)\n",
    "    sequence_data = []\n",
    "    sequences = deque(maxlen=n_steps)\n",
    "    for entry, target in zip(df[feature_columns + [\"date\"]].values, df['future'].values):\n",
    "        sequences.append(entry)\n",
    "        if len(sequences) == n_steps:\n",
    "            sequence_data.append([np.array(sequences), target])\n",
    "    # get the last sequence by appending the last `n_step` sequence with `lookup_step` sequence\n",
    "    # for instance, if n_steps=50 and lookup_step=10, last_sequence should be of 60 (that is 50+10) length\n",
    "    # this last_sequence will be used to predict future stock prices that are not available in the dataset\n",
    "    last_sequence = list([s[:len(feature_columns)] for s in sequences]) + list(last_sequence)\n",
    "    last_sequence = np.array(last_sequence).astype(np.float32)\n",
    "    # add to result\n",
    "    result['last_sequence'] = last_sequence\n",
    "    # construct the X's and y's\n",
    "    X, y = [], []\n",
    "    for seq, target in sequence_data:\n",
    "        X.append(seq)\n",
    "        y.append(target)\n",
    "    # convert to numpy arrays\n",
    "    X = np.array(X)\n",
    "    y = np.array(y)\n",
    "    if split_by_date:\n",
    "        # split the dataset into training & testing sets by date (not randomly splitting)\n",
    "        train_samples = int((1 - test_size) * len(X))\n",
    "        result[\"X_train\"] = X[:train_samples]\n",
    "        result[\"y_train\"] = y[:train_samples]\n",
    "        result[\"X_test\"]  = X[train_samples:]\n",
    "        result[\"y_test\"]  = y[train_samples:]\n",
    "        if shuffle:\n",
    "            # shuffle the datasets for training (if shuffle parameter is set)\n",
    "            shuffle_in_unison(result[\"X_train\"], result[\"y_train\"])\n",
    "            shuffle_in_unison(result[\"X_test\"], result[\"y_test\"])\n",
    "    else:    \n",
    "        # split the dataset randomly\n",
    "        result[\"X_train\"], result[\"X_test\"], result[\"y_train\"], result[\"y_test\"] = train_test_split(X, y, \n",
    "                                                                    test_size=test_size, shuffle=shuffle)\n",
    "    # get the list of test set dates\n",
    "    dates = result[\"X_test\"][:, -1, -1]\n",
    "    # retrieve test features from the original dataframe\n",
    "    result[\"test_df\"] = result[\"df\"].loc[dates]\n",
    "    # remove duplicated dates in the testing dataframe\n",
    "    result[\"test_df\"] = result[\"test_df\"][~result[\"test_df\"].index.duplicated(keep='first')]\n",
    "    # remove dates from the training/testing sets & convert to float32\n",
    "    result[\"X_train\"] = result[\"X_train\"][:, :, :len(feature_columns)].astype(np.float32)\n",
    "    result[\"X_test\"] = result[\"X_test\"][:, :, :len(feature_columns)].astype(np.float32)\n",
    "    return result"
   ]
  },
  {
   "cell_type": "code",
   "execution_count": 48,
   "metadata": {},
   "outputs": [],
   "source": [
    "import os\n",
    "import time\n",
    "from tensorflow.keras.layers import LSTM\n",
    "N_STEPS = 50  # Window size or the sequence length\n",
    "LOOKUP_STEP = 15   # Lookup step, 1 is the next day\n",
    "# whether to scale feature columns & output price as well\n",
    "SCALE = True\n",
    "scale_str = f\"sc-{int(SCALE)}\"\n",
    "# whether to shuffle the dataset\n",
    "SHUFFLE = False\n",
    "shuffle_str = f\"sh-{int(SHUFFLE)}\"\n",
    "# whether to split the training/testing set by date\n",
    "SPLIT_BY_DATE = True\n",
    "split_by_date_str = f\"sbd-{int(SPLIT_BY_DATE)}\"\n",
    "TEST_SIZE = 0.2  # test ratio size, 0.2 is 20%\n",
    "FEATURE_COLUMNS = [\"Adj Close\", \"Volume\", \"Open\", \"High\", \"Low\"]\n",
    "date_now = time.strftime(\"%Y-%m-%d\")\n",
    "### model parameters\n",
    "N_LAYERS = 2\n",
    "# LSTM cell\n",
    "CELL = LSTM\n",
    "UNITS = 256  # 256 LSTM neurons\n",
    "DROPOUT = 0.4 # 40% dropout\n",
    "# whether to use bidirectional RNNs\n",
    "BIDIRECTIONAL = False\n",
    "### training parameters # mean absolute error loss\n",
    "LOSS = \"mae\" # huber loss #LOSS = \"huber_loss\"\n",
    "OPTIMIZER = \"adam\"\n",
    "BATCH_SIZE = 64\n",
    "EPOCHS = 10\n",
    "# Amazon stock market\n",
    "ticker = \"AAPL\"\n",
    "ticker_data_filename = os.path.join(\"data\", f\"{ticker}_{date_now}.csv\")\n",
    "# model name to save, making it as unique as possible based on parameters\n",
    "model_name = f\"{date_now}_{ticker}-{shuffle_str}-{scale_str}-{split_by_date_str}-\\\n",
    "{LOSS}-{OPTIMIZER}-{CELL.__name__}-seq-{N_STEPS}-step-{LOOKUP_STEP}-layers-{N_LAYERS}-units-{UNITS}\"\n",
    "if BIDIRECTIONAL:\n",
    "    model_name += \"-b\""
   ]
  },
  {
   "cell_type": "code",
   "execution_count": 49,
   "metadata": {},
   "outputs": [
    {
     "name": "stdout",
     "output_type": "stream",
     "text": [
      "[*********************100%***********************]  1 of 1 completed\n"
     ]
    }
   ],
   "source": [
    "# load the data\n",
    "from tensorflow.keras.models import model_from_json\n",
    "\n",
    "data = load_data(ticker, N_STEPS, scale=SCALE, split_by_date=SPLIT_BY_DATE, \n",
    "                shuffle=SHUFFLE, lookup_step=LOOKUP_STEP, test_size=TEST_SIZE, \n",
    "                feature_columns=FEATURE_COLUMNS)\n",
    "\n",
    "# load json and create model\n",
    "file_path = Path(\"aaplmodel_15day.json\")\n",
    "with open(file_path, \"r\") as json_file:\n",
    "    model_json = json_file.read()\n",
    "loaded_aaplmodel_15day = model_from_json(model_json)\n",
    "\n",
    "# load weights into new model\n",
    "file_path = \"aaplmodel_15day.h5\"\n",
    "loaded_aaplmodel_15day.load_weights(file_path)\n"
   ]
  },
  {
   "cell_type": "code",
   "execution_count": 50,
   "metadata": {},
   "outputs": [],
   "source": [
    "import matplotlib.pyplot as plt\n",
    "\n",
    "def plot_graph(test_df):\n",
    "    \"\"\"\n",
    "    This function plots true close price along with predicted close price\n",
    "    with blue and red colors respectively\n",
    "    \"\"\"\n",
    "    plt.plot(test_df[f'true_adjclose_{LOOKUP_STEP}'], c='b')\n",
    "    plt.plot(test_df[f'adjclose_{LOOKUP_STEP}'], c='r')\n",
    "    plt.xlabel(\"Days\")\n",
    "    plt.ylabel(\"Price\")\n",
    "    plt.legend([\"Actual Price\", \"Predicted Price\"])\n",
    "    plt.show()"
   ]
  },
  {
   "cell_type": "code",
   "execution_count": 51,
   "metadata": {},
   "outputs": [],
   "source": [
    "def get_final_df(model, data):\n",
    "    # if pred future price > current, calculate true future price - current price, to get buy profit\n",
    "    buy_profit  = lambda current, true_future, pred_future: true_future - current if pred_future\n",
    "                                                                                > current else 0\n",
    "    # if predicted future price lower than current, subtract true future price from the current price\n",
    "    sell_profit = lambda current, true_future, pred_future: current - true_future if pred_future\n",
    "                                                                                < current else 0\n",
    "    X_test = data[\"X_test\"]\n",
    "    y_test = data[\"y_test\"]\n",
    "    # perform prediction and get prices\n",
    "    y_pred = model.predict(X_test)\n",
    "    if SCALE:\n",
    "        y_test = np.squeeze(data[\"column_scaler\"][\"Adj Close\"].inverse_transform(np.expand_dims\n",
    "                                                                                 (y_test,axis=0)))\n",
    "        y_pred = np.squeeze(data[\"column_scaler\"][\"Adj Close\"].inverse_transform(y_pred))\n",
    "    test_df = data[\"test_df\"]\n",
    "    # add predicted future prices to the dataframe\n",
    "    test_df[f\"adjclose_{LOOKUP_STEP}\"] = y_pred\n",
    "    # add true future prices to the dataframe\n",
    "    test_df[f\"true_adjclose_{LOOKUP_STEP}\"] = y_test\n",
    "    # sort the dataframe by date\n",
    "    test_df.sort_index(inplace=True)\n",
    "    final_df = test_df\n",
    "    # add the buy profit column\n",
    "    final_df[\"buy_profit\"] = list(map(buy_profit, \n",
    "                                    final_df[\"Adj Close\"], \n",
    "                                    final_df[f\"adjclose_{LOOKUP_STEP}\"], \n",
    "                                    final_df[f\"true_adjclose_{LOOKUP_STEP}\"])\n",
    "                                    # since we don't have profit for last sequence, add 0's\n",
    "                                    )\n",
    "    # add the sell profit column\n",
    "    final_df[\"sell_profit\"] = list(map(sell_profit, \n",
    "                                    final_df[\"Adj Close\"], \n",
    "                                    final_df[f\"adjclose_{LOOKUP_STEP}\"], \n",
    "                                    final_df[f\"true_adjclose_{LOOKUP_STEP}\"])\n",
    "                                    # since we don't have profit for last sequence, add 0's\n",
    "                                    )\n",
    "    return final_df"
   ]
  },
  {
   "cell_type": "code",
   "execution_count": 52,
   "metadata": {},
   "outputs": [],
   "source": [
    "def predict(model, data):\n",
    "    # retrieve the last sequence from data\n",
    "    last_sequence = data[\"last_sequence\"][-N_STEPS:]\n",
    "    # expand dimension\n",
    "    last_sequence = np.expand_dims(last_sequence, axis=0)\n",
    "    # get the prediction (scaled from 0 to 1)\n",
    "    prediction = model.predict(last_sequence)\n",
    "    # get the price (by inverting the scaling)\n",
    "    if SCALE:\n",
    "        predicted_price = data[\"column_scaler\"][\"Adj Close\"].inverse_transform(prediction)[0][0]\n",
    "    else:\n",
    "        predicted_price = prediction[0][0]\n",
    "    return predicted_price"
   ]
  },
  {
   "cell_type": "code",
   "execution_count": 53,
   "metadata": {},
   "outputs": [],
   "source": [
    "#data['df']['Adj Close'][-1]"
   ]
  },
  {
   "cell_type": "code",
   "execution_count": 54,
   "metadata": {},
   "outputs": [],
   "source": [
    "def recommendation(model, data):\n",
    "    df = get_final_df(model, data)\n",
    "    avg_error = abs(final_df['adjclose_15'] - final_df['true_adjclose_15']).mean()\n",
    "    # retrieve the last sequence from data\n",
    "    last_sequence = data[\"last_sequence\"][-N_STEPS:]\n",
    "    # expand dimension\n",
    "    last_sequence = np.expand_dims(last_sequence, axis=0)\n",
    "    # get the prediction (scaled from 0 to 1)\n",
    "    prediction = model.predict(last_sequence)\n",
    "    # get the price (by inverting the scaling)\n",
    "    if SCALE:\n",
    "        predicted_price = data[\"column_scaler\"][\"Adj Close\"].inverse_transform(prediction)[0][0]\n",
    "    else:\n",
    "           predicted_price = prediction[0][0]\n",
    "    \n",
    "    last_close_price = data['df']['Adj Close'][-1]\n",
    "    strike_price_call = predicted_price - avg_error \n",
    "    strike_price_put = predicted_price + avg_error \n",
    "    \n",
    "    if last_close_price > predicted_price:\n",
    "        recommendation = f\"This model recommends you take a Put because Future price after {LOOKUP_STEP} days is ${predicted_price}. A strike price of ${strike_price_put} is suggested.\"\n",
    "    else: \n",
    "        recommendation = f\"This model recommends you take a Call because Future price after {LOOKUP_STEP} days is ${predicted_price}. A strike price of ${strike_price_call} is suggested.\"\n",
    "    \n",
    "    return recommendation"
   ]
  },
  {
   "cell_type": "code",
   "execution_count": 55,
   "metadata": {},
   "outputs": [],
   "source": [
    "# get the final dataframe for the testing set\n",
    "final_df = get_final_df(loaded_model_3_15day, data)\n"
   ]
  },
  {
   "cell_type": "code",
   "execution_count": null,
   "metadata": {},
   "outputs": [],
   "source": []
  },
  {
   "cell_type": "code",
   "execution_count": 56,
   "metadata": {},
   "outputs": [
    {
     "data": {
      "text/plain": [
       "'This model recommends you take a Put because Future price after 15 days is $116.8709945678711. A strike price of $121.20436157047419 is suggested.'"
      ]
     },
     "execution_count": 56,
     "metadata": {},
     "output_type": "execute_result"
    }
   ],
   "source": [
    "option_recommendation = recommendation(loaded_model_3_15day, data)\n",
    "option_recommendation"
   ]
  },
  {
   "cell_type": "code",
   "execution_count": 57,
   "metadata": {},
   "outputs": [
    {
     "name": "stdout",
     "output_type": "stream",
     "text": [
      "116.870995\n"
     ]
    }
   ],
   "source": [
    "# predict the future price\n",
    "future_price = predict(loaded_model_3_15day, data)\n",
    "print(future_price)"
   ]
  },
  {
   "cell_type": "raw",
   "metadata": {},
   "source": [
    "# we calculate the accuracy by counting the number of positive profits\n",
    "accuracy_score = (len(final_df[final_df['sell_profit'] > 0])\n",
    "                  + len(final_df[final_df['buy_profit'] > 0])) / len(final_df)\n",
    "# calculating total buy & sell profit\n",
    "total_buy_profit  = final_df[\"buy_profit\"].sum()\n",
    "total_sell_profit = final_df[\"sell_profit\"].sum()\n",
    "# total profit by adding sell & buy together\n",
    "total_profit = total_buy_profit + total_sell_profit\n",
    "# dividing total profit by number of testing samples (number of trades)\n",
    "profit_per_trade = total_profit / len(final_df)\n",
    "\n",
    "print(accuracy_score)"
   ]
  },
  {
   "cell_type": "code",
   "execution_count": null,
   "metadata": {},
   "outputs": [],
   "source": []
  },
  {
   "cell_type": "code",
   "execution_count": 58,
   "metadata": {},
   "outputs": [
    {
     "name": "stdout",
     "output_type": "stream",
     "text": [
      "This model predicts the Future price after 15 days will be 116.87$\n"
     ]
    },
    {
     "data": {
      "image/png": "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\n",
      "text/plain": [
       "<Figure size 432x288 with 1 Axes>"
      ]
     },
     "metadata": {
      "needs_background": "light"
     },
     "output_type": "display_data"
    }
   ],
   "source": [
    "# printing metrics\n",
    "print(f\"This model predicts the Future price after {LOOKUP_STEP} days will be {future_price:.2f}$\")\n",
    "# plot true/pred prices graph\n",
    "plot_graph(final_df)"
   ]
  },
  {
   "cell_type": "code",
   "execution_count": null,
   "metadata": {},
   "outputs": [],
   "source": []
  },
  {
   "cell_type": "code",
   "execution_count": null,
   "metadata": {},
   "outputs": [],
   "source": []
  }
 ],
 "metadata": {
  "kernelspec": {
   "display_name": "Python 3",
   "language": "python",
   "name": "python3"
  },
  "language_info": {
   "codemirror_mode": {
    "name": "ipython",
    "version": 3
   },
   "file_extension": ".py",
   "mimetype": "text/x-python",
   "name": "python",
   "nbconvert_exporter": "python",
   "pygments_lexer": "ipython3",
<<<<<<< HEAD
   "version": "3.7.9"
=======
   "version": "3.8.3"
>>>>>>> 7172832e9a238b9921d5a1f4b5185f85958ef59f
  }
 },
 "nbformat": 4,
 "nbformat_minor": 4
}
